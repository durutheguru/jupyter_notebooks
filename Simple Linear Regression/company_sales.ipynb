{
 "cells": [
  {
   "cell_type": "code",
   "execution_count": null,
   "metadata": {},
   "outputs": [
    {
     "name": "stdout",
     "output_type": "stream",
     "text": [
      "Enter path to CSV file: /Users/dduru/PythonProjects/data/company_sales/sales.csv\n",
      "alpha: -11240.45, beta: 5.625\n",
      "RMSE: 2.5673429844880484\n",
      "R-Squared Score: 0.8520814631956912\n",
      "\n",
      "\n"
     ]
    }
   ],
   "source": [
    "import numpy as np\n",
    "import pandas as pd\n",
    "\n",
    "\n",
    "def variance(x):\n",
    "    # we subtract 1 from the denominator as bessel's correction.\n",
    "    return np.sum((x - x.mean()) ** 2) / (len(x))\n",
    "\n",
    "\n",
    "def covariance(x, y):\n",
    "    if len(x) != len(y):\n",
    "        raise Exception('Error in input. X, y size mismatch')\n",
    "    return (np.multiply((x - x.mean()), (y - y.mean()))).sum() / (len(x) - 1)\n",
    "\n",
    "\n",
    "def read_data(path):\n",
    "    frame = pd.read_csv(path)\n",
    "    return frame['Year'].values, frame['Sales'].values\n",
    "\n",
    "\n",
    "def evaluate(a, b, x_train, y_train):\n",
    "    print(f\"alpha: {a}, beta: {b}\")\n",
    "    \n",
    "    y_predict = x_train * b + a\n",
    "    \n",
    "    rmse = (np.sum((y_predict - y_train) ** 2) / len(x_train)) ** 0.5\n",
    "    print(f\"RMSE: {rmse}\")\n",
    "    \n",
    "    ss_tot = np.sum((y_train - y_train.mean()) ** 2)\n",
    "    ss_res = np.sum((y_predict - y_train) ** 2)\n",
    "    r_score = 1 - (ss_res / ss_tot)\n",
    "    \n",
    "    print(f\"R-Squared Score: {r_score}\\n\\n\")\n",
    "\n",
    "\n",
    "path = input('Enter path to CSV file: ')\n",
    "X, Y = read_data(path)\n",
    "\n",
    "beta = np.cov(X, Y)[0][1] / np.var(X)\n",
    "alpha = Y.mean() - (beta * X.mean())\n",
    "\n",
    "evaluate(alpha, beta, X, Y)\n",
    "\n",
    "year = int(input('Input Year (-1 to end): '))\n",
    "while year != -1:\n",
    "    estimate = alpha + beta * year\n",
    "    print(f\"Estimate for {year}: {estimate}\")\n",
    "    \n",
    "    year = int(input('Input Year (-1 to end): '))\n",
    "    \n",
    "\n"
   ]
  },
  {
   "cell_type": "markdown",
   "metadata": {},
   "source": []
  }
 ],
 "metadata": {
  "kernelspec": {
   "display_name": "Python 3",
   "language": "python",
   "name": "python3"
  },
  "language_info": {
   "codemirror_mode": {
    "name": "ipython",
    "version": 3
   },
   "file_extension": ".py",
   "mimetype": "text/x-python",
   "name": "python",
   "nbconvert_exporter": "python",
   "pygments_lexer": "ipython3",
   "version": "3.8.3"
  }
 },
 "nbformat": 4,
 "nbformat_minor": 2
}
