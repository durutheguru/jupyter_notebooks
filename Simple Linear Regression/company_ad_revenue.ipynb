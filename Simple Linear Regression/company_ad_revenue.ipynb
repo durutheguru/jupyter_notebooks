{
 "metadata": {
  "language_info": {
   "codemirror_mode": {
    "name": "ipython",
    "version": 3
   },
   "file_extension": ".py",
   "mimetype": "text/x-python",
   "name": "python",
   "nbconvert_exporter": "python",
   "pygments_lexer": "ipython3",
   "version": "3.8.3-final"
  },
  "orig_nbformat": 2,
  "kernelspec": {
   "name": "python_defaultSpec_1599919168836",
   "display_name": "Python 3.8.3 64-bit ('base': conda)"
  }
 },
 "nbformat": 4,
 "nbformat_minor": 2,
 "cells": [
  {
   "cell_type": "code",
   "execution_count": 2,
   "metadata": {
    "tags": []
   },
   "outputs": [
    {
     "output_type": "stream",
     "name": "stdout",
     "text": "Gradient: 0.004792598572030164, Intercept: 1.3405669873994546\n\nGross Revenue: 3.2576064162115204\nGross Revenue: 3.7368662734145364\nGross Revenue: 4.216126130617553\nGross Revenue: 4.695385987820569\n"
    }
   ],
   "source": [
    "import numpy as np\n",
    "import pandas as pd\n",
    "\n",
    "\n",
    "def read_data(x_header, y_header):\n",
    "    path = input('Enter path to CSV file: ')\n",
    "    frame = pd.read_csv(path)\n",
    "    return frame[x_header].values, frame[y_header].values\n",
    "\n",
    "\n",
    "x_train, y_train = read_data('amount (thousand naira)', 'gross revenue (millions)')\n",
    "\n",
    "gradient = np.cov(x_train, y_train, ddof=1)[0][1] / np.var(x_train, ddof=1)\n",
    "intercept = y_train.mean() - (gradient * x_train.mean())\n",
    "\n",
    "print(f'Gradient: {gradient}, Intercept: {intercept}\\n')\n",
    "\n",
    "amount = float(input('Enter amount: '))\n",
    "while amount != -1:\n",
    "    revenue = (gradient * amount) + intercept\n",
    "    print(f'Gross Revenue: {revenue}')\n",
    "    \n",
    "    amount = float(input('Enter amount: '))\n",
    "    \n",
    "\n",
    "\n",
    "\n",
    "\n",
    "\n"
   ]
  },
  {
   "cell_type": "code",
   "execution_count": null,
   "metadata": {},
   "outputs": [],
   "source": []
  }
 ]
}