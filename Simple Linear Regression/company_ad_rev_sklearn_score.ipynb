{
 "cells": [
  {
   "cell_type": "code",
   "execution_count": 3,
   "metadata": {
    "tags": []
   },
   "outputs": [
    {
     "name": "stdout",
     "output_type": "stream",
     "text": [
      "Enter path to Training CSV file: /Users/dduru/PythonProjects/data/Simple Linear Regression/company_ad_revenue/data.csv\n",
      "Enter path to Test CSV file: /Users/dduru/PythonProjects/data/Simple Linear Regression/company_ad_revenue/test_data.csv\n",
      "R-Squared: 0.9383265010822415\n"
     ]
    }
   ],
   "source": [
    "import numpy as np\n",
    "import pandas as pd\n",
    "from sklearn.linear_model import LinearRegression\n",
    "\n",
    "def read_data(file_type, x_header, y_header):\n",
    "    path = input(f'Enter path to {file_type} CSV file: ')\n",
    "    frame = pd.read_csv(path)\n",
    "    return frame[x_header].values, frame[y_header].values\n",
    "\n",
    "\n",
    "x_header = 'amount (thousand naira)'\n",
    "y_header = 'gross revenue (millions)'\n",
    "\n",
    "x_train, y_train = read_data('Training', x_header, y_header)\n",
    "x_test, y_test = read_data('Test', x_header, y_header)\n",
    "\n",
    "regressor = LinearRegression()\n",
    "regressor.fit(x_train.reshape(-1, 1), y_train.reshape(-1, 1))\n",
    "\n",
    "r_squared = regressor.score(x_test.reshape(-1, 1), y_test.reshape(-1, 1))\n",
    "print(f'R-Squared: {r_squared}')\n"
   ]
  },
  {
   "cell_type": "code",
   "execution_count": null,
   "metadata": {},
   "outputs": [],
   "source": []
  }
 ],
 "metadata": {
  "kernelspec": {
   "display_name": "Python 3",
   "language": "python",
   "name": "python3"
  },
  "language_info": {
   "codemirror_mode": {
    "name": "ipython",
    "version": 3
   },
   "file_extension": ".py",
   "mimetype": "text/x-python",
   "name": "python",
   "nbconvert_exporter": "python",
   "pygments_lexer": "ipython3",
   "version": "3.8.3"
  }
 },
 "nbformat": 4,
 "nbformat_minor": 2
}
