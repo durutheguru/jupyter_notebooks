{
 "cells": [
  {
   "cell_type": "code",
   "execution_count": null,
   "metadata": {},
   "outputs": [
    {
     "name": "stdout",
     "output_type": "stream",
     "text": [
      "Enter path to CSV file: ~/PythonProjects/data/company_sales/sales.csv\n",
      "Input Year (-1 to end): 2012\n",
      "Estimate for 2012: 65.79999999999927\n",
      "Input Year (-1 to end): 2013\n",
      "Estimate for 2013: 70.29999999999927\n",
      "Input Year (-1 to end): 2015\n",
      "Estimate for 2015: 79.29999999999927\n"
     ]
    }
   ],
   "source": [
    "import numpy as np\n",
    "import pandas as pd\n",
    "from sklearn.linear_model import LinearRegression\n",
    "\n",
    "\n",
    "def read_data(path):\n",
    "    frame = pd.read_csv(path)\n",
    "    return frame['Year'].values, frame['Sales'].values\n",
    "\n",
    "\n",
    "\n",
    "path = input('Enter path to CSV file: ')\n",
    "X, Y = read_data(path)\n",
    "\n",
    "\n",
    "model = LinearRegression()\n",
    "model.fit(X.reshape(-1, 1), Y.reshape(-1, 1))\n",
    "\n",
    "year = int(input('Input Year (-1 to end): '))\n",
    "while year != -1:\n",
    "    estimate = model.predict(np.array(year).reshape(-1, 1))\n",
    "    print(f\"Estimate for {year}: {estimate[0][0]}\")\n",
    "    \n",
    "    year = int(input('Input Year (-1 to end): '))\n",
    "\n",
    "\n",
    "\n"
   ]
  },
  {
   "cell_type": "code",
   "execution_count": null,
   "metadata": {},
   "outputs": [],
   "source": []
  },
  {
   "cell_type": "code",
   "execution_count": null,
   "metadata": {},
   "outputs": [],
   "source": []
  }
 ],
 "metadata": {
  "kernelspec": {
   "display_name": "Python 3",
   "language": "python",
   "name": "python3"
  },
  "language_info": {
   "codemirror_mode": {
    "name": "ipython",
    "version": 3
   },
   "file_extension": ".py",
   "mimetype": "text/x-python",
   "name": "python",
   "nbconvert_exporter": "python",
   "pygments_lexer": "ipython3",
   "version": "3.7.4"
  }
 },
 "nbformat": 4,
 "nbformat_minor": 2
}
