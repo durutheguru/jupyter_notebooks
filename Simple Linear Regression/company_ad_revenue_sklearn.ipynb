{
 "metadata": {
  "language_info": {
   "codemirror_mode": {
    "name": "ipython",
    "version": 3
   },
   "file_extension": ".py",
   "mimetype": "text/x-python",
   "name": "python",
   "nbconvert_exporter": "python",
   "pygments_lexer": "ipython3",
   "version": "3.8.3-final"
  },
  "orig_nbformat": 2,
  "kernelspec": {
   "name": "python_defaultSpec_1599931764329",
   "display_name": "Python 3.8.3 64-bit ('base': conda)"
  }
 },
 "nbformat": 4,
 "nbformat_minor": 2,
 "cells": [
  {
   "cell_type": "code",
   "execution_count": 5,
   "metadata": {
    "tags": []
   },
   "outputs": [
    {
     "output_type": "stream",
     "name": "stdout",
     "text": "Gross Revenue: 3.2576064162115204\nGross Revenue: 3.7368662734145364\nGross Revenue: 4.216126130617553\nGross Revenue: 4.69538598782057\nGross Revenue: 4.935015916422078\nGross Revenue: 6.133165559429619\n"
    }
   ],
   "source": [
    "import numpy as np\n",
    "import pandas as pd\n",
    "import matplotlib.pyplot as plt\n",
    "from sklearn.linear_model import LinearRegression\n",
    "\n",
    "\n",
    "def plot_data(x, y, x_label, y_label):\n",
    "    if len(x) != len(y):\n",
    "        raise Error('X and Y input size mismatch')\n",
    "        \n",
    "    plt.style.use('seaborn-whitegrid')\n",
    "    plt.xlabel(x_label)\n",
    "    plt.ylabel(y_label)\n",
    "    for i in range(len(x)):\n",
    "        plt.scatter(x[i], y[i], color='k')\n",
    "        \n",
    "    plt.show()\n",
    "\n",
    "\n",
    "def read_data(x_header, y_header):\n",
    "    path = input('Enter path to CSV file: ')\n",
    "    frame = pd.read_csv(path)\n",
    "    return frame[x_header].values, frame[y_header].values\n",
    "\n",
    "\n",
    "def read_input_amount():\n",
    "    return float(input('Enter amount: '))\n",
    "\n",
    "\n",
    "# /Users/dduru/PythonProjects/data/Simple Linear Regression/company_ad_revenue/data.csv\n",
    "\n",
    "x_train, y_train = read_data('amount (thousand naira)', 'gross revenue (millions)')\n",
    "\n",
    "regressor = LinearRegression()\n",
    "regressor.fit(x_train.reshape(-1, 1), y_train.reshape(-1, 1))\n",
    "\n",
    "amount = read_input_amount()\n",
    "while amount != -1:\n",
    "    revenue = regressor.predict(np.array(amount).reshape(-1, 1))[0][0]\n",
    "    print(f'Gross Revenue: {revenue}')\n",
    "    \n",
    "    amount = read_input_amount()\n",
    "\n",
    "    \n",
    "    "
   ]
  },
  {
   "cell_type": "code",
   "execution_count": null,
   "metadata": {},
   "outputs": [],
   "source": []
  }
 ]
}