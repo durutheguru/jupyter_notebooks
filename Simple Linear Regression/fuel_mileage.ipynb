{
 "cells": [
  {
   "cell_type": "code",
   "execution_count": null,
   "metadata": {},
   "outputs": [
    {
     "name": "stdout",
     "output_type": "stream",
     "text": [
      "Enter path to CSV file: /Users/dduru/PythonProjects/data/fuel_mileage/data.csv\n",
      "Gradient: 0.0004792598572030163, Intercept: 1.340566987399455\n",
      "\n",
      "Enter amount: 4000\n",
      "Weeks: 3.2576064162115204\n",
      "Enter amount: 5000\n",
      "Weeks: 3.7368662734145364\n",
      "Enter amount: 4500\n",
      "Weeks: 3.4972363448130284\n"
     ]
    }
   ],
   "source": [
    "import numpy as np\n",
    "import pandas as pd\n",
    "\n",
    "\n",
    "def read_data(x_header, y_header):\n",
    "    path = input('Enter path to CSV file: ')\n",
    "    frame = pd.read_csv(path)\n",
    "    return frame[x_header].values, frame[y_header].values\n",
    "\n",
    "\n",
    "x_train, y_train = read_data('amount (naira)', 'weeks')\n",
    "\n",
    "gradient = np.cov(x_train, y_train, ddof=1)[0][1] / np.var(x_train, ddof=1)\n",
    "intercept = y_train.mean() - (gradient * x_train.mean())\n",
    "\n",
    "print(f'Gradient: {gradient}, Intercept: {intercept}\\n')\n",
    "\n",
    "amount = float(input('Enter amount: '))\n",
    "while amount != -1:\n",
    "    weeks = (gradient * amount) + intercept\n",
    "    print(f'Weeks: {weeks}')\n",
    "    \n",
    "    amount = float(input('Enter amount: '))\n",
    "    \n",
    "\n",
    "\n"
   ]
  },
  {
   "cell_type": "code",
   "execution_count": null,
   "metadata": {},
   "outputs": [],
   "source": []
  }
 ],
 "metadata": {
  "kernelspec": {
   "display_name": "Python 3",
   "language": "python",
   "name": "python3"
  },
  "language_info": {
   "codemirror_mode": {
    "name": "ipython",
    "version": 3
   },
   "file_extension": ".py",
   "mimetype": "text/x-python",
   "name": "python",
   "nbconvert_exporter": "python",
   "pygments_lexer": "ipython3",
   "version": "3.8.3"
  }
 },
 "nbformat": 4,
 "nbformat_minor": 4
}
