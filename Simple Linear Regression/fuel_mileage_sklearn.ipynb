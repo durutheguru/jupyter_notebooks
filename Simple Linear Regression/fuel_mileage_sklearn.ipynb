{
 "cells": [
  {
   "cell_type": "code",
   "execution_count": 3,
   "metadata": {},
   "outputs": [
    {
     "name": "stdout",
     "output_type": "stream",
     "text": [
      "Enter path to CSV file: /Users/dduru/PythonProjects/data/fuel_mileage/data.csv\n"
     ]
    },
    {
     "data": {
      "image/png": "[encoded data removed]",
      "text/plain": [
       "<Figure size 432x288 with 1 Axes>"
      ]
     },
     "metadata": {},
     "output_type": "display_data"
    }
   ],
   "source": [
    "import numpy as np\n",
    "import pandas as pd\n",
    "import matplotlib.pyplot as plt\n",
    "from sklearn.linear_model import LinearRegression\n",
    "\n",
    "\n",
    "def plot_data(x, y, x_label, y_label):\n",
    "    if len(x) != len(y):\n",
    "        raise Error('X and Y input size mismatch')\n",
    "        \n",
    "    plt.style.use('seaborn-whitegrid')\n",
    "    plt.xlabel(x_label)\n",
    "    plt.ylabel(y_label)\n",
    "    for i in range(len(x)):\n",
    "        plt.scatter(x[i], y[i], color='k')\n",
    "        \n",
    "    plt.show()\n",
    "\n",
    "\n",
    "\n",
    "def read_data(x_header, y_header):\n",
    "    path = input('Enter path to CSV file: ')\n",
    "    frame = pd.read_csv(path)\n",
    "    return frame[x_header].values, frame[y_header].values\n",
    "\n",
    "\n",
    "x_train, y_train = read_data('amount (naira)', 'weeks')\n",
    "\n",
    "plot_data(x_train, y_train, 'Amount (Naira)', 'Weeks')\n",
    "\n",
    "# model = LinearRegression()\n",
    "# model.fit(x_train.reshape(-1, 1), y_train.reshape(-1, 1))\n",
    "\n",
    "# amount = float(input('Enter amount: '))\n",
    "# while amount != -1:\n",
    "#     weeks = model.predict(np.array(amount).reshape(-1, 1))[0][0]\n",
    "#     print(f'Weeks: {weeks}')\n",
    "    \n",
    "#     amount = float(input('Enter amount: '))\n",
    "    \n",
    "    "
   ]
  },
  {
   "cell_type": "code",
   "execution_count": null,
   "metadata": {},
   "outputs": [],
   "source": []
  }
 ],
 "metadata": {
  "kernelspec": {
   "display_name": "Python 3",
   "language": "python",
   "name": "python3"
  },
  "language_info": {
   "codemirror_mode": {
    "name": "ipython",
    "version": 3
   },
   "file_extension": ".py",
   "mimetype": "text/x-python",
   "name": "python",
   "nbconvert_exporter": "python",
   "pygments_lexer": "ipython3",
   "version": "3.8.3"
  }
 },
 "nbformat": 4,
 "nbformat_minor": 4
}
