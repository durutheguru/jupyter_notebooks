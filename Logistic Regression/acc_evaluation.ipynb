{
 "cells": [
  {
   "cell_type": "code",
   "execution_count": 12,
   "metadata": {},
   "outputs": [
    {
     "name": "stdout",
     "output_type": "stream",
     "text": [
      "Enter path to CSV: /Users/dduru/PythonProjects/data/smsspamcollection/SMSSpamCollection\n",
      "Accuracy: 0.9557301664613357\n",
      "Precision: 0.9898824772775312\n",
      "Recall: 0.6824561403508772\n",
      "F1: 0.8076293446858502\n"
     ]
    },
    {
     "data": {
      "image/png": "[encoded data removed]",
      "text/plain": [
       "<Figure size 432x288 with 1 Axes>"
      ]
     },
     "metadata": {
      "needs_background": "light"
     },
     "output_type": "display_data"
    }
   ],
   "source": [
    "%run ../include/util.ipynb\n",
    "\n",
    "import numpy as np\n",
    "import pandas as pd\n",
    "from sklearn.feature_extraction.text import TfidfVectorizer\n",
    "from sklearn.linear_model.logistic import LogisticRegression\n",
    "from sklearn.model_selection import train_test_split, cross_val_score\n",
    "from sklearn.metrics import roc_curve, auc, f1_score, precision_score, recall_score, make_scorer\n",
    "import matplotlib.pyplot as plt\n",
    "\n",
    "\n",
    "# /Users/dduru/PythonProjects/data/smsspamcollection/SMSSpamCollection\n",
    "\n",
    "\n",
    "df = read_csv_frame(delimiter = '\\t', header = None)\n",
    "X_train_raw, X_test_raw, Y_train, Y_test = train_test_split(df[1], df[0], random_state=11)\n",
    "\n",
    "vectorizer = TfidfVectorizer()\n",
    "X_train = vectorizer.fit_transform(X_train_raw)\n",
    "X_test = vectorizer.transform(X_test_raw)\n",
    "\n",
    "# solver='lbfgs'\n",
    "classifier = LogisticRegression(solver='lbfgs')\n",
    "classifier.fit(X_train, Y_train)\n",
    "\n",
    "\n",
    "# Accuracy\n",
    "scores = cross_val_score(classifier, X_train, Y_train, cv=5)\n",
    "print('Accuracy: %s' % np.mean(scores))\n",
    "\n",
    "\n",
    "# Precision\n",
    "precision_scorer = make_scorer(precision_score, pos_label='spam')\n",
    "precisions = cross_val_score(classifier, X_train, Y_train, cv=5, scoring=precision_scorer)\n",
    "print('Precision: %s' % np.mean(precisions))\n",
    "\n",
    "\n",
    "# Recall\n",
    "recall_scorer = make_scorer(recall_score, pos_label='spam')\n",
    "recalls = cross_val_score(classifier, X_train, Y_train, cv = 5, scoring=recall_scorer)\n",
    "print('Recall: %s' % np.mean(recalls))\n",
    "\n",
    "\n",
    "# F1\n",
    "f1_scorer = make_scorer(f1_score, pos_label='spam')\n",
    "f1_scores = cross_val_score(classifier, X_train, Y_train, cv = 5, scoring = f1_scorer)\n",
    "print('F1: %s' % np.mean(f1_scores))\n",
    "\n",
    "\n",
    "predictions = classifier.predict_proba(X_test)\n",
    "false_positive_rate, recall, thresholds = roc_curve(Y_test, predictions[:, 1], pos_label='spam')\n",
    "roc_auc = auc(false_positive_rate, recall)\n",
    "plt.title('Receiver Operating Characteristic')\n",
    "plt.plot(false_positive_rate, recall, 'b', label='AUC = %0.2f' % roc_auc)\n",
    "plt.legend(loc = 'lower right')\n",
    "plt.plot([0, 1], [0, 1], 'r--')\n",
    "plt.xlim([0.0, 1.0])\n",
    "plt.ylim([0.0, 1.0])\n",
    "plt.ylabel('Recall')\n",
    "plt.xlabel('Fall-out')\n",
    "plt.show()\n",
    "\n",
    "\n",
    "\n",
    "\n",
    "\n",
    "\n",
    "\n",
    "\n"
   ]
  },
  {
   "cell_type": "code",
   "execution_count": null,
   "metadata": {},
   "outputs": [],
   "source": []
  }
 ],
 "metadata": {
  "kernelspec": {
   "display_name": "Python 3",
   "language": "python",
   "name": "python3"
  },
  "language_info": {
   "codemirror_mode": {
    "name": "ipython",
    "version": 3
   },
   "file_extension": ".py",
   "mimetype": "text/x-python",
   "name": "python",
   "nbconvert_exporter": "python",
   "pygments_lexer": "ipython3",
   "version": "3.7.4"
  }
 },
 "nbformat": 4,
 "nbformat_minor": 2
}
