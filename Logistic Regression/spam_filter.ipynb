{
 "cells": [
  {
   "cell_type": "code",
   "execution_count": 14,
   "metadata": {},
   "outputs": [
    {
     "name": "stdout",
     "output_type": "stream",
     "text": [
      "Enter path to CSV: /Users/dduru/PythonProjects/data/smsspamcollection/SMSSpamCollection\n",
      "      0                                                  1\n",
      "0   ham  Go until jurong point, crazy.. Available only ...\n",
      "1   ham                      Ok lar... Joking wif u oni...\n",
      "2  spam  Free entry in 2 a wkly comp to win FA Cup fina...\n",
      "3   ham  U dun say so early hor... U c already then say...\n",
      "4   ham  Nah I don't think he goes to usf, he lives aro...\n",
      "Number of spam messages: 747\n",
      "Number of ham messages: 4825\n",
      "\n",
      "\n",
      "Predicted: ham, message: True dear..i sat to pray evening and felt so.so i sms'd you in some time...\n",
      "Predicted: ham, message: Hope you are having a good week. Just checking in\n",
      "Predicted: ham, message: I didnt get anything da\n",
      "Predicted: ham, message: Yes. Nigh you cant aha.\n",
      "Predicted: ham, message: Actually i'm waiting for 2 weeks when they start putting ad.\n",
      "Predicted: ham, message: Nothing, smsing u n xy lor. Sorry lor da guys neva c u in person but they sort of know u lor. So u wan 2 meet them xy ask me 2 bring u along 4 our next meeting.\n",
      "Predicted: ham, message: That means you got an A in epi, she.s fine. She.s here now.\n",
      "Predicted: ham, message: Vikky, come around  &lt;TIME&gt; ..\n",
      "Predicted: ham, message: How did you find out in a way that didn't include all of these details\n",
      "Predicted: ham, message: Hey ! Don't forget ... You are MINE ... For ME ... My possession ... MY property ... MMM ... *childish smile* ...\n",
      "Predicted: ham, message: Your daily text from me – a favour this time\n",
      "Predicted: ham, message: Yup ok...\n",
      "Predicted: ham, message: Hi, Mobile no.  &lt;#&gt;  has added you in their contact list on www.fullonsms.com It s a great place to send free sms to people For more visit fullonsms.com\n",
      "Predicted: spam, message: Urgent -call 09066649731from Landline. Your complimentary 4* Ibiza Holiday or £10,000 cash await collection SAE T&Cs PO BOX 434 SK3 8WP 150ppm 18+\n",
      "Predicted: ham, message: My love ... I hope your not doing anything drastic. Don't you dare sell your pc or your phone ...\n"
     ]
    },
    {
     "name": "stderr",
     "output_type": "stream",
     "text": [
      "/usr/local/anaconda3/lib/python3.7/site-packages/sklearn/linear_model/logistic.py:432: FutureWarning: Default solver will be changed to 'lbfgs' in 0.22. Specify a solver to silence this warning.\n",
      "  FutureWarning)\n"
     ]
    }
   ],
   "source": [
    "%run ../include/util.ipynb\n",
    "\n",
    "import numpy as np\n",
    "import pandas as pd\n",
    "from sklearn.feature_extraction.text import TfidfVectorizer\n",
    "from sklearn.linear_model.logistic import LogisticRegression\n",
    "from sklearn.model_selection import train_test_split, cross_val_score\n",
    "\n",
    "# /Users/dduru/PythonProjects/data/smsspamcollection/SMSSpamCollection\n",
    "df = read_csv_frame(delimiter='\\t', header=None)\n",
    "\n",
    "print(df.head())\n",
    "\n",
    "print('Number of spam messages: %s' % df[df[0] == 'spam'][0].count())\n",
    "print('Number of ham messages: %s\\n\\n' % df[df[0] == 'ham'][0].count())\n",
    "\n",
    "X = df[1].values\n",
    "Y = df[0].values\n",
    "X_train_raw, X_test_raw, Y_train, Y_test = train_test_split(X, Y)\n",
    "\n",
    "vectorizer = TfidfVectorizer()\n",
    "\n",
    "X_train = vectorizer.fit_transform(X_train_raw)\n",
    "X_test = vectorizer.transform(X_test_raw)\n",
    "\n",
    "classifier = LogisticRegression()\n",
    "classifier.fit(X_train, Y_train)\n",
    "\n",
    "predictions = classifier.predict(X_test)\n",
    "for i, prediction in enumerate(predictions[:15]):\n",
    "    print('Predicted: %s, message: %s' % (prediction, X_test_raw[i]))\n",
    "\n",
    "# df = read_csv_frame(delimiter = 't', header = None)\n",
    "\n",
    "\n"
   ]
  },
  {
   "cell_type": "code",
   "execution_count": null,
   "metadata": {},
   "outputs": [],
   "source": []
  }
 ],
 "metadata": {
  "kernelspec": {
   "display_name": "Python 3",
   "language": "python",
   "name": "python3"
  },
  "language_info": {
   "codemirror_mode": {
    "name": "ipython",
    "version": 3
   },
   "file_extension": ".py",
   "mimetype": "text/x-python",
   "name": "python",
   "nbconvert_exporter": "python",
   "pygments_lexer": "ipython3",
   "version": "3.7.4"
  }
 },
 "nbformat": 4,
 "nbformat_minor": 2
}
