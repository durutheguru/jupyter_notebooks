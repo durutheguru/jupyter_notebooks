{
 "cells": [
  {
   "cell_type": "code",
   "execution_count": null,
   "metadata": {},
   "outputs": [],
   "source": [
    "from math import sqrt\n",
    "from math import exp\n",
    "from math import pi\n",
    "\n",
    "\n",
    "\n",
    "def average(numbers):\n",
    "    \"\"\"\n",
    "    returns the average of a list of numbers\n",
    "    \"\"\"\n",
    "    \n",
    "    return sum(numbers) / (len(numbers))\n",
    "    \n",
    "\n",
    "def std_dev(data):\n",
    "    \"\"\"\n",
    "    returns the standard deviation of a list of numbers\n",
    "    \"\"\"\n",
    "    \n",
    "    avg = average(data)\n",
    "    variance = sum([(x - avg)**2 for x in data]) / (len(data) - 1)\n",
    "    return sqrt(variance)\n",
    "    \n",
    "    \n",
    "def gaussian_probability(x, mean, std_dev):\n",
    "    exponent = exp((-1 / 2) * ((x - mean) / std_dev)**2)\n",
    "    return exponent  / (std_dev * sqrt(2 * pi))\n",
    "\n",
    "\n",
    "\n",
    "\n"
   ]
  }
 ],
 "metadata": {
  "kernelspec": {
   "display_name": "Python 3",
   "language": "python",
   "name": "python3"
  },
  "language_info": {
   "codemirror_mode": {
    "name": "ipython",
    "version": 3
   },
   "file_extension": ".py",
   "mimetype": "text/x-python",
   "name": "python",
   "nbconvert_exporter": "python",
   "pygments_lexer": "ipython3",
   "version": "3.8.3"
  }
 },
 "nbformat": 4,
 "nbformat_minor": 4
}
