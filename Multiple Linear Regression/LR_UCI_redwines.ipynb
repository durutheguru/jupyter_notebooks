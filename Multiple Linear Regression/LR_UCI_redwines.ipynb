{
 "cells": [
  {
   "cell_type": "code",
   "execution_count": 2,
   "metadata": {},
   "outputs": [
    {
     "name": "stdout",
     "output_type": "stream",
     "text": [
      "Enter path to CSV: /Users/dduru/PythonProjects/data/UCI/wineQualityReds.csv\n",
      "R-squared: 0.3532367713488344\n",
      "Scores: [0.06036364 0.32272449 0.34969623 0.36387457 0.28140362]\n",
      "Scores Mean: 0.2756125104278092\n"
     ]
    }
   ],
   "source": [
    "%run ../include/util.ipynb\n",
    "\n",
    "from sklearn.linear_model import LinearRegression\n",
    "from sklearn.model_selection import cross_val_score\n",
    "from sklearn.model_selection import train_test_split\n",
    "\n",
    "frame = read_csv_frame()\n",
    "\n",
    "# plt.scatter(frame['alcohol'], frame['quality'])\n",
    "# plt.scatter(frame['volatile.acidity'], frame['quality'], c='r')\n",
    "\n",
    "# plt.xlabel('Alcohol (b), Vol. Acidity (r)')\n",
    "# plt.ylabel('Quality')\n",
    "# plt.title('Alcohol Against Quality')\n",
    "\n",
    "# plt.show()\n",
    "\n",
    "\n",
    "X = frame[list(frame.columns)[:-1]]\n",
    "Y = frame['quality']\n",
    "\n",
    "## without cross validation\n",
    "X_train, X_test, Y_train, Y_test = train_test_split(X, Y)\n",
    "\n",
    "regressor = LinearRegression()\n",
    "regressor.fit(X_train, Y_train)\n",
    "\n",
    "# y_predictions = regressor.predict(X_test)\n",
    "print(f'R-squared: {regressor.score(X_test, Y_test)}')\n",
    "\n",
    "\n",
    "## with cross validation\n",
    "crossValRegressor = LinearRegression()\n",
    "scores = cross_val_score(regressor, X, Y, cv = 5)\n",
    "print(f'Scores: {scores}')\n",
    "print(f'Scores Mean: {scores.mean()}')\n",
    "\n",
    "\n",
    "\n",
    "\n",
    "\n",
    "\n",
    "\n"
   ]
  },
  {
   "cell_type": "code",
   "execution_count": null,
   "metadata": {},
   "outputs": [],
   "source": []
  },
  {
   "cell_type": "code",
   "execution_count": null,
   "metadata": {},
   "outputs": [],
   "source": []
  },
  {
   "cell_type": "code",
   "execution_count": null,
   "metadata": {},
   "outputs": [],
   "source": []
  }
 ],
 "metadata": {
  "kernelspec": {
   "display_name": "Python 3",
   "language": "python",
   "name": "python3"
  },
  "language_info": {
   "codemirror_mode": {
    "name": "ipython",
    "version": 3
   },
   "file_extension": ".py",
   "mimetype": "text/x-python",
   "name": "python",
   "nbconvert_exporter": "python",
   "pygments_lexer": "ipython3",
   "version": "3.7.4"
  }
 },
 "nbformat": 4,
 "nbformat_minor": 2
}
