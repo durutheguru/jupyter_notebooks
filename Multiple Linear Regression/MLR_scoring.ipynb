{
 "cells": [
  {
   "cell_type": "code",
   "execution_count": 3,
   "metadata": {},
   "outputs": [
    {
     "name": "stdout",
     "output_type": "stream",
     "text": [
      "Enter file path to training data: /Users/dduru/PythonProjects/data/turnouts/turnout.csv\n",
      "Enter file path to test data: /Users/dduru/PythonProjects/data/turnouts/turnout_test.csv\n",
      "Predicted: [31000.], Target: [31000]\n",
      "Predicted: [35000.], Target: [35000]\n",
      "Predicted: [35000.], Target: [35000]\n",
      "Predicted: [34000.], Target: [34000]\n",
      "Predicted: [35000.], Target: [36000]\n",
      "Predicted: [35000.], Target: [34500]\n",
      "R-square 0.9159663865546224\n"
     ]
    }
   ],
   "source": [
    "%run ../include/util.ipynb\n",
    "\n",
    "import pandas as pd\n",
    "from sklearn.linear_model import LinearRegression\n",
    "\n",
    "path = input('Enter file path to training data: ')\n",
    "\n",
    "A, B, C = read_columns(path, 'temperature', 'month', 'turnout')\n",
    "\n",
    "# formulate X from columns A and B\n",
    "X = [[a[1][0], a[1][1]] for a in enumerate(zip(A, B))] \n",
    "Y = [[c] for c in C] \n",
    "\n",
    "model = LinearRegression()\n",
    "model.fit(X, Y)\n",
    "\n",
    "\n",
    "path = input('Enter file path to test data: ')\n",
    "A, B, C = read_columns(path, 'temperature', 'month', 'turnout')\n",
    "\n",
    "# formulate X from columns A and B\n",
    "X_test = [[a[1][0], a[1][1]] for a in enumerate(zip(A, B))] \n",
    "Y_test = [[c] for c in C] \n",
    "\n",
    "Y_predictions = model.predict(X_test)\n",
    "\n",
    "for i, prediction in enumerate(Y_predictions):\n",
    "    print(f'Predicted: {prediction}, Target: {Y_test[i]}')\n",
    "\n",
    "print(f'R-square {model.score(X_test, Y_test)}')\n",
    "    \n",
    "\n",
    "# # helps suppress scientific notation for really large or really small numbers\n",
    "# np.set_printoptions(suppress=True)\n",
    "\n",
    "# # Z = Z.astype(np.float)\n",
    "\n",
    "# print(f'Z: {Z}')\n",
    "\n",
    "\n",
    "\n",
    "\n",
    "\n"
   ]
  },
  {
   "cell_type": "code",
   "execution_count": null,
   "metadata": {},
   "outputs": [],
   "source": []
  }
 ],
 "metadata": {
  "kernelspec": {
   "display_name": "Python 3",
   "language": "python",
   "name": "python3"
  },
  "language_info": {
   "codemirror_mode": {
    "name": "ipython",
    "version": 3
   },
   "file_extension": ".py",
   "mimetype": "text/x-python",
   "name": "python",
   "nbconvert_exporter": "python",
   "pygments_lexer": "ipython3",
   "version": "3.7.4"
  }
 },
 "nbformat": 4,
 "nbformat_minor": 2
}
