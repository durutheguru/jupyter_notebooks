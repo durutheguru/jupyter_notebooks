{
 "cells": [
  {
   "cell_type": "code",
   "execution_count": 3,
   "metadata": {},
   "outputs": [
    {
     "name": "stdout",
     "output_type": "stream",
     "text": [
      "Enter file path to CSV: /Users/dduru/PythonProjects/data/turnouts/turnout.csv\n",
      "Z: [[1000.]\n",
      " [   0.]]\n"
     ]
    },
    {
     "name": "stderr",
     "output_type": "stream",
     "text": [
      "/usr/local/anaconda3/lib/python3.7/site-packages/ipykernel_launcher.py:15: FutureWarning: `rcond` parameter will change to the default of machine precision times ``max(M, N)`` where M and N are the input matrix dimensions.\n",
      "To use the future default and silence this warning we advise to pass `rcond=None`, to keep using the old, explicitly pass `rcond=-1`.\n",
      "  from ipykernel import kernelapp as app\n"
     ]
    }
   ],
   "source": [
    "%run ../include/util.ipynb\n",
    "\n",
    "import numpy as np\n",
    "from numpy.linalg import lstsq\n",
    "import pandas as pd\n",
    "\n",
    "path = input('Enter file path to CSV: ')\n",
    "\n",
    "A, B, C = read_columns(path, 'temperature', 'month', 'turnout')\n",
    "\n",
    "# formulate X from columns A and B\n",
    "X = [[a[1][0], a[1][1]] for a in enumerate(zip(A, B))] \n",
    "Y = [[c] for c in C] \n",
    "\n",
    "Z = lstsq(X, Y)[0]\n",
    "\n",
    "# helps suppress scientific notation for really large or really small numbers\n",
    "np.set_printoptions(suppress=True)\n",
    "\n",
    "# Z = Z.astype(np.float)\n",
    "\n",
    "print(f'Z: {Z}')\n",
    "\n",
    "\n",
    "\n",
    "\n",
    "\n",
    "\n",
    "\n",
    "\n",
    "\n",
    "\n",
    "\n"
   ]
  },
  {
   "cell_type": "code",
   "execution_count": null,
   "metadata": {},
   "outputs": [],
   "source": []
  }
 ],
 "metadata": {
  "kernelspec": {
   "display_name": "Python 3",
   "language": "python",
   "name": "python3"
  },
  "language_info": {
   "codemirror_mode": {
    "name": "ipython",
    "version": 3
   },
   "file_extension": ".py",
   "mimetype": "text/x-python",
   "name": "python",
   "nbconvert_exporter": "python",
   "pygments_lexer": "ipython3",
   "version": "3.7.4"
  }
 },
 "nbformat": 4,
 "nbformat_minor": 2
}
