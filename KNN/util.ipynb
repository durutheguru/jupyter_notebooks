{
 "cells": [
  {
   "cell_type": "code",
   "execution_count": null,
   "metadata": {},
   "outputs": [],
   "source": [
    "import numpy as np\n",
    "import pandas as pd\n",
    "import matplotlib.pyplot as plt\n",
    "from collections import Counter\n",
    "\n",
    "\n",
    "def plot_data(X, Y, Z):\n",
    "    style_plot()\n",
    "    \n",
    "    # Plot visual representation of X, Y, Z\n",
    "    for i, data in enumerate(zip(X, Y)):\n",
    "        plt.scatter(data[0], data[1], c='k', marker='o' if Z[i] == 'male' else 'x')\n",
    "    \n",
    "    plt.show()\n",
    "\n",
    "\n",
    "def style_plot():\n",
    "    plt.style.use('seaborn-whitegrid')\n",
    "    plt.figure()\n",
    "    plt.xlabel('Height in foot.')\n",
    "    plt.ylabel('Age in years.')\n",
    "\n",
    "\n",
    "def read_data(path):\n",
    "    frame = pd.read_csv(path)\n",
    "    return frame['Height'].values, frame['Age'].values, frame['Sex'].values\n",
    "\n",
    "\n",
    "def read_test_input():\n",
    "    return [float(x) for x in input('Enter Height and Age for evaluation: ').split()]\n",
    "\n",
    "\n",
    "def evaluate_nearest(X, Y, x, y, verbose=False):\n",
    "    euclidean_distances = np.sqrt((X - x)**2  + (Y - y)**2)\n",
    "    if verbose:\n",
    "        print(f'Distances: {euclidean_distances}')\n",
    "    \n",
    "    nearest_neighbor_indices = euclidean_distances.argsort()[:3]\n",
    "    nearest_neighbor_sexes = np.take(Z, nearest_neighbor_indices)\n",
    "    \n",
    "    if verbose:\n",
    "        print(f'K Nearest: {nearest_neighbor_sexes}')\n",
    "        \n",
    "    return most_common(nearest_neighbor_sexes) \n",
    "\n",
    "\n",
    "def most_common(nearest_neighbors):\n",
    "    counts = Counter(nearest_neighbors)\n",
    "    return counts.most_common()[0][0]\n",
    "\n"
   ]
  }
 ],
 "metadata": {
  "kernelspec": {
   "display_name": "Python 3",
   "language": "python",
   "name": "python3"
  },
  "language_info": {
   "codemirror_mode": {
    "name": "ipython",
    "version": 3
   },
   "file_extension": ".py",
   "mimetype": "text/x-python",
   "name": "python",
   "nbconvert_exporter": "python",
   "pygments_lexer": "ipython3",
   "version": "3.7.4"
  }
 },
 "nbformat": 4,
 "nbformat_minor": 2
}
