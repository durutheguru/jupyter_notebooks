{
 "metadata": {
  "language_info": {
   "codemirror_mode": {
    "name": "ipython",
    "version": 3
   },
   "file_extension": ".py",
   "mimetype": "text/x-python",
   "name": "python",
   "nbconvert_exporter": "python",
   "pygments_lexer": "ipython3",
   "version": "3.8.3-final"
  },
  "orig_nbformat": 2,
  "kernelspec": {
   "name": "python3",
   "display_name": "Python 3"
  }
 },
 "nbformat": 4,
 "nbformat_minor": 2,
 "cells": [
  {
   "cell_type": "code",
   "execution_count": 4,
   "metadata": {},
   "outputs": [
    {
     "output_type": "execute_result",
     "data": {
      "text/plain": [
       "         Name  ID  Year of Release  Comedy  Action  Drama  Romance  Horror  \\\n",
       "1    Commando   2             1985       4      10      4        0       0   \n",
       "4   Lion King   5             1994       8       6      9        5       0   \n",
       "5      Matrix   6             1999       3      10      8        5       4   \n",
       "8     Titanic   9             1997       3       2      9       10       9   \n",
       "16     Aliens  17             1986       4       9      6        0      10   \n",
       "\n",
       "    SciFi  \n",
       "1       2  \n",
       "4       0  \n",
       "5       9  \n",
       "8       0  \n",
       "16      9  "
      ],
      "text/html": "<div>\n<style scoped>\n    .dataframe tbody tr th:only-of-type {\n        vertical-align: middle;\n    }\n\n    .dataframe tbody tr th {\n        vertical-align: top;\n    }\n\n    .dataframe thead th {\n        text-align: right;\n    }\n</style>\n<table border=\"1\" class=\"dataframe\">\n  <thead>\n    <tr style=\"text-align: right;\">\n      <th></th>\n      <th>Name</th>\n      <th>ID</th>\n      <th>Year of Release</th>\n      <th>Comedy</th>\n      <th>Action</th>\n      <th>Drama</th>\n      <th>Romance</th>\n      <th>Horror</th>\n      <th>SciFi</th>\n    </tr>\n  </thead>\n  <tbody>\n    <tr>\n      <th>1</th>\n      <td>Commando</td>\n      <td>2</td>\n      <td>1985</td>\n      <td>4</td>\n      <td>10</td>\n      <td>4</td>\n      <td>0</td>\n      <td>0</td>\n      <td>2</td>\n    </tr>\n    <tr>\n      <th>4</th>\n      <td>Lion King</td>\n      <td>5</td>\n      <td>1994</td>\n      <td>8</td>\n      <td>6</td>\n      <td>9</td>\n      <td>5</td>\n      <td>0</td>\n      <td>0</td>\n    </tr>\n    <tr>\n      <th>5</th>\n      <td>Matrix</td>\n      <td>6</td>\n      <td>1999</td>\n      <td>3</td>\n      <td>10</td>\n      <td>8</td>\n      <td>5</td>\n      <td>4</td>\n      <td>9</td>\n    </tr>\n    <tr>\n      <th>8</th>\n      <td>Titanic</td>\n      <td>9</td>\n      <td>1997</td>\n      <td>3</td>\n      <td>2</td>\n      <td>9</td>\n      <td>10</td>\n      <td>9</td>\n      <td>0</td>\n    </tr>\n    <tr>\n      <th>16</th>\n      <td>Aliens</td>\n      <td>17</td>\n      <td>1986</td>\n      <td>4</td>\n      <td>9</td>\n      <td>6</td>\n      <td>0</td>\n      <td>10</td>\n      <td>9</td>\n    </tr>\n  </tbody>\n</table>\n</div>"
     },
     "metadata": {},
     "execution_count": 4
    }
   ],
   "source": [
    "import math\n",
    "import pandas as pd\n",
    "import numpy as np\n",
    "\n",
    "\n",
    "# /Users/dduru/PythonProjects/data/KNN/movie-recommended.csv \n",
    "# path = input('Enter file Path: ') \n",
    "# frame = pd.read_csv(path)\n",
    "\n",
    "\n",
    "\n",
    "def distance(a, b):\n",
    "    return math.sqrt(np.sum((a[2:] - b[2:]) ** 2))\n",
    "\n",
    "\n",
    "def generate_distance_map(mID, frame):\n",
    "    movie = frame[frame['ID'] == mID].iloc[0]\n",
    "    \n",
    "    distance_map = {}\n",
    "    for index, row in frame.iterrows():\n",
    "        if movie['ID'] != row['ID']:\n",
    "            distance_map[row['ID']] = distance(movie, row)\n",
    "        \n",
    "    return distance_map\n",
    "\n",
    "\n",
    "frame = pd.read_csv('/Users/dduru/PythonProjects/data/KNN/movie-recommended.csv')\n",
    "movie_id = int(input('Enter Movie ID'))\n",
    "\n",
    "distance_map = generate_distance_map(movie_id, frame)\n",
    "\n",
    "sorted_distance_map = sorted(distance_map.items(), key=lambda item: item[1])\n",
    "top_recommended_ids = [item[0] for item in sorted_distance_map[:5]]\n",
    "\n",
    "\n",
    "frame[np.isin(frame['ID'], top_recommended_ids)]\n",
    "\n",
    "\n"
   ]
  },
  {
   "cell_type": "code",
   "execution_count": null,
   "metadata": {},
   "outputs": [],
   "source": []
  }
 ]
}