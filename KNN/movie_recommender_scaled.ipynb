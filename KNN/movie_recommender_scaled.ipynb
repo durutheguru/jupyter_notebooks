{
 "metadata": {
  "language_info": {
   "codemirror_mode": {
    "name": "ipython",
    "version": 3
   },
   "file_extension": ".py",
   "mimetype": "text/x-python",
   "name": "python",
   "nbconvert_exporter": "python",
   "pygments_lexer": "ipython3",
   "version": "3.8.3-final"
  },
  "orig_nbformat": 2,
  "kernelspec": {
   "name": "python3",
   "display_name": "Python 3"
  }
 },
 "nbformat": 4,
 "nbformat_minor": 2,
 "cells": [
  {
   "cell_type": "code",
   "execution_count": 6,
   "metadata": {},
   "outputs": [
    {
     "output_type": "execute_result",
     "data": {
      "text/plain": [
       "               Name  ID  Year of Release  Comedy  Action  Drama  Romance  \\\n",
       "2           Mad Max   3             2015       2       9      7        3   \n",
       "5            Matrix   6             1999       3      10      8        5   \n",
       "15     Annihilation  16             2018       2      10      7        2   \n",
       "16           Aliens  17             1986       4       9      6        0   \n",
       "20  The Dark Knight  21             2008       1       9      8        0   \n",
       "\n",
       "    Horror  SciFi  \n",
       "2        4      9  \n",
       "5        4      9  \n",
       "15       9      8  \n",
       "16      10      9  \n",
       "20       4      8  "
      ],
      "text/html": "<div>\n<style scoped>\n    .dataframe tbody tr th:only-of-type {\n        vertical-align: middle;\n    }\n\n    .dataframe tbody tr th {\n        vertical-align: top;\n    }\n\n    .dataframe thead th {\n        text-align: right;\n    }\n</style>\n<table border=\"1\" class=\"dataframe\">\n  <thead>\n    <tr style=\"text-align: right;\">\n      <th></th>\n      <th>Name</th>\n      <th>ID</th>\n      <th>Year of Release</th>\n      <th>Comedy</th>\n      <th>Action</th>\n      <th>Drama</th>\n      <th>Romance</th>\n      <th>Horror</th>\n      <th>SciFi</th>\n    </tr>\n  </thead>\n  <tbody>\n    <tr>\n      <th>2</th>\n      <td>Mad Max</td>\n      <td>3</td>\n      <td>2015</td>\n      <td>2</td>\n      <td>9</td>\n      <td>7</td>\n      <td>3</td>\n      <td>4</td>\n      <td>9</td>\n    </tr>\n    <tr>\n      <th>5</th>\n      <td>Matrix</td>\n      <td>6</td>\n      <td>1999</td>\n      <td>3</td>\n      <td>10</td>\n      <td>8</td>\n      <td>5</td>\n      <td>4</td>\n      <td>9</td>\n    </tr>\n    <tr>\n      <th>15</th>\n      <td>Annihilation</td>\n      <td>16</td>\n      <td>2018</td>\n      <td>2</td>\n      <td>10</td>\n      <td>7</td>\n      <td>2</td>\n      <td>9</td>\n      <td>8</td>\n    </tr>\n    <tr>\n      <th>16</th>\n      <td>Aliens</td>\n      <td>17</td>\n      <td>1986</td>\n      <td>4</td>\n      <td>9</td>\n      <td>6</td>\n      <td>0</td>\n      <td>10</td>\n      <td>9</td>\n    </tr>\n    <tr>\n      <th>20</th>\n      <td>The Dark Knight</td>\n      <td>21</td>\n      <td>2008</td>\n      <td>1</td>\n      <td>9</td>\n      <td>8</td>\n      <td>0</td>\n      <td>4</td>\n      <td>8</td>\n    </tr>\n  </tbody>\n</table>\n</div>"
     },
     "metadata": {},
     "execution_count": 6
    }
   ],
   "source": [
    "import math\n",
    "import pandas as pd\n",
    "import numpy as np\n",
    "from sklearn.preprocessing import StandardScaler \n",
    "\n",
    "\n",
    "\n",
    "def distance(a, b):\n",
    "    return math.sqrt(np.sum((a[1:] - b[1:]) ** 2))\n",
    "\n",
    "\n",
    "def generate_distance_map(mID, frame):\n",
    "    movie = frame[frame['ID'] == mID].iloc[0]\n",
    "    \n",
    "    distance_map = {}\n",
    "    for index, row in frame.iterrows():\n",
    "        if movie['ID'] != row['ID']:\n",
    "            distance_map[row['ID']] = distance(movie, row)\n",
    "        \n",
    "    return distance_map\n",
    "\n",
    "\n",
    "raw_frame = pd.read_csv('/Users/dduru/PythonProjects/data/KNN/movie-recommended.csv')\n",
    "frame = raw_frame[raw_frame.columns[1:]]\n",
    "\n",
    "scaler = StandardScaler()\n",
    "frame[frame.columns[1:]] = scaler.fit_transform(frame[frame.columns[1:]])\n",
    "\n",
    "\n",
    "movie_id = int(input('Enter Movie ID: '))\n",
    "\n",
    "distance_map = generate_distance_map(movie_id, frame)\n",
    "\n",
    "sorted_distance_map = sorted(distance_map.items(), key=lambda item: item[1])\n",
    "top_recommended_ids = [item[0] for item in sorted_distance_map[:5]]\n",
    "\n",
    "raw_frame[np.isin(frame['ID'], top_recommended_ids)]\n",
    "\n",
    "\n",
    "\n",
    "\n",
    "\n",
    "\n"
   ]
  },
  {
   "cell_type": "code",
   "execution_count": null,
   "metadata": {},
   "outputs": [],
   "source": []
  }
 ]
}