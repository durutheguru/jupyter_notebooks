{
 "cells": [
  {
   "cell_type": "code",
   "execution_count": 7,
   "metadata": {},
   "outputs": [
    {
     "name": "stdout",
     "output_type": "stream",
     "text": [
      "Enter training CSV path: /Users/dduru/PythonProjects/data/height_age_sex/teen_data.csv\n",
      "Enter number of Neighbors: 3\n",
      "Enter test CSV path: /Users/dduru/PythonProjects/data/height_age_sex/teen_data_test.csv\n",
      "Predicted Ages: [16.66666667 16.         16.         15.33333333]\n",
      "Actual Ages: [15 16 14 15]\n",
      "Coefficient of Determination: -2.444444444444447\n",
      "Mean Absolute Error: 1.0000000000000004\n",
      "Mean Squared Error: 1.7222222222222234\n"
     ]
    }
   ],
   "source": [
    "import numpy as np\n",
    "from sklearn.neighbors import KNeighborsRegressor\n",
    "from sklearn.preprocessing import LabelBinarizer\n",
    "from sklearn.metrics import mean_absolute_error, mean_squared_error, r2_score\n",
    "\n",
    "%run ../util.ipynb\n",
    "\n",
    "\n",
    "lb = LabelBinarizer()\n",
    "\n",
    "\n",
    "X, Z, Y = read_data(input('Enter training CSV path: '))\n",
    "\n",
    "Y = lb.fit_transform(Y)\n",
    "\n",
    "K = int(input('Enter number of Neighbors: '))\n",
    "\n",
    "classifier = KNeighborsRegressor(n_neighbors = K)\n",
    "classifier.fit(list(zip(X, Y)), Z)\n",
    "\n",
    "\n",
    "x_test, z_test, y_test = read_data(input('Enter test CSV path: '))\n",
    "y_test = lb.transform(y_test)\n",
    "\n",
    "\n",
    "predictions = classifier.predict(list(zip(x_test, y_test)))\n",
    "\n",
    "print(f'Predicted Ages: {predictions}')\n",
    "print(f'Actual Ages: {z_test}')\n",
    "\n",
    "\n",
    "print(f'Coefficient of Determination: {r2_score(z_test, predictions)}')\n",
    "print(f'Mean Absolute Error: {mean_absolute_error(z_test, predictions)}')\n",
    "print(f'Mean Squared Error: {mean_squared_error(z_test, predictions)}')\n",
    "\n",
    "\n",
    "\n"
   ]
  },
  {
   "cell_type": "code",
   "execution_count": null,
   "metadata": {},
   "outputs": [],
   "source": []
  }
 ],
 "metadata": {
  "kernelspec": {
   "display_name": "Python 3",
   "language": "python",
   "name": "python3"
  },
  "language_info": {
   "codemirror_mode": {
    "name": "ipython",
    "version": 3
   },
   "file_extension": ".py",
   "mimetype": "text/x-python",
   "name": "python",
   "nbconvert_exporter": "python",
   "pygments_lexer": "ipython3",
   "version": "3.7.4"
  }
 },
 "nbformat": 4,
 "nbformat_minor": 2
}
