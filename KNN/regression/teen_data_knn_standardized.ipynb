{
 "cells": [
  {
   "cell_type": "code",
   "execution_count": 5,
   "metadata": {},
   "outputs": [
    {
     "name": "stdout",
     "output_type": "stream",
     "text": [
      "Enter training CSV path: /Users/dduru/PythonProjects/data/height_sex_age/teen_data.csv\n",
      "Non-Standardized Data: [(6.0, 1), (5.2, 1), (5.7, 0), (6.0, 1), (6.0, 0), (5.4, 1), (5.4, 0), (4.9, 1), (5.0, 0), (5.8, 0), (6.1, 1), (5.6, 0), (5.5, 1), (5.2, 0), (5.4, 0), (5.7, 1)]\n",
      "Standardized Data: [[ 1.23688875  1.        ]\n",
      " [-0.99299519  1.        ]\n",
      " [ 0.40068227 -1.        ]\n",
      " [ 1.23688875  1.        ]\n",
      " [ 1.23688875 -1.        ]\n",
      " [-0.43552421  1.        ]\n",
      " [-0.43552421 -1.        ]\n",
      " [-1.82920167  1.        ]\n",
      " [-1.55046618 -1.        ]\n",
      " [ 0.67941776 -1.        ]\n",
      " [ 1.51562424  1.        ]\n",
      " [ 0.12194678 -1.        ]\n",
      " [-0.15678871  1.        ]\n",
      " [-0.99299519 -1.        ]\n",
      " [-0.43552421 -1.        ]\n",
      " [ 0.40068227  1.        ]]\n",
      "Enter number of Neighbors: 3\n",
      "Enter test CSV path: /Users/dduru/PythonProjects/data/height_sex_age/teen_data_test.csv\n",
      "Predicted Ages: [16.66666667 16.         16.         15.33333333]\n",
      "Actual Ages: [15 16 14 15]\n",
      "Coefficient of Determination: -2.444444444444447\n",
      "Mean Absolute Error: 1.0000000000000004\n",
      "Mean Squared Error: 1.7222222222222234\n"
     ]
    }
   ],
   "source": [
    "import numpy as np\n",
    "from sklearn.neighbors import KNeighborsRegressor\n",
    "from sklearn.preprocessing import LabelBinarizer, StandardScaler\n",
    "from sklearn.metrics import mean_absolute_error, mean_squared_error, r2_score\n",
    "\n",
    "%run ../util.ipynb\n",
    "\n",
    "\n",
    "lb = LabelBinarizer()\n",
    "ss = StandardScaler()\n",
    "\n",
    "\n",
    "X, Z, Y = read_data(input('Enter training CSV path: '))\n",
    "\n",
    "Y = lb.fit_transform(Y).reshape(-1)\n",
    "\n",
    "x_train = list(zip(X, Y))\n",
    "x_train_standard = ss.fit_transform(x_train)\n",
    "\n",
    "print(f'Non-Standardized Data: {x_train}')\n",
    "print(f'Standardized Data: {x_train_standard}')\n",
    "\n",
    "\n",
    "K = int(input('Enter number of Neighbors: '))\n",
    "\n",
    "classifier = KNeighborsRegressor(n_neighbors = K)\n",
    "classifier.fit(x_train_standard, Z)\n",
    "\n",
    "\n",
    "x_test, z_test, y_test = read_data(input('Enter test CSV path: '))\n",
    "y_test = lb.transform(y_test).reshape(-1)\n",
    "\n",
    "\n",
    "x_test_standard = ss.transform(list(zip(x_test, y_test)))\n",
    "\n",
    "predictions = classifier.predict(x_test_standard)\n",
    "\n",
    "\n",
    "print(f'Predicted Ages: {predictions}')\n",
    "print(f'Actual Ages: {z_test}')\n",
    "\n",
    "\n",
    "print(f'Coefficient of Determination: {r2_score(z_test, predictions)}')\n",
    "print(f'Mean Absolute Error: {mean_absolute_error(z_test, predictions)}')\n",
    "print(f'Mean Squared Error: {mean_squared_error(z_test, predictions)}')\n",
    "\n",
    "\n",
    "\n"
   ]
  },
  {
   "cell_type": "code",
   "execution_count": null,
   "metadata": {},
   "outputs": [],
   "source": []
  },
  {
   "cell_type": "code",
   "execution_count": null,
   "metadata": {},
   "outputs": [],
   "source": []
  },
  {
   "cell_type": "code",
   "execution_count": null,
   "metadata": {},
   "outputs": [],
   "source": []
  }
 ],
 "metadata": {
  "kernelspec": {
   "display_name": "Python 3",
   "language": "python",
   "name": "python3"
  },
  "language_info": {
   "codemirror_mode": {
    "name": "ipython",
    "version": 3
   },
   "file_extension": ".py",
   "mimetype": "text/x-python",
   "name": "python",
   "nbconvert_exporter": "python",
   "pygments_lexer": "ipython3",
   "version": "3.7.4"
  }
 },
 "nbformat": 4,
 "nbformat_minor": 2
}
