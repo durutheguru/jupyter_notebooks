{
 "cells": [
  {
   "cell_type": "code",
   "execution_count": null,
   "metadata": {},
   "outputs": [
    {
     "name": "stdout",
     "output_type": "stream",
     "text": [
      "Enter CSV file path: /Users/dduru/PythonProjects/data/height_age_sex/teen_data.csv\n"
     ]
    },
    {
     "data": {
      "image/png": "[encoded data removed]",
      "text/plain": [
       "<Figure size 432x288 with 1 Axes>"
      ]
     },
     "metadata": {},
     "output_type": "display_data"
    },
    {
     "name": "stdout",
     "output_type": "stream",
     "text": [
      "Enter Height and Age for evaluation: 5.3 19\n",
      "Distances: [3.08058436 6.00083328 5.01597448 2.11896201 1.22065556 3.0016662\n",
      " 5.0009999  6.01331855 5.00899191 3.04138127 2.15406592 3.01496269\n",
      " 4.00499688 1.00498756 3.0016662  4.01995025]\n",
      "K Nearest: ['female' 'female' 'male']\n",
      "Prediction: female\n",
      "Enter Height and Age for evaluation: 5.7 13\n",
      "Distances: [3.01496269 0.5        1.         4.01123422 5.00899191 3.01496269\n",
      " 1.04403065 0.8        1.22065556 3.0016662  4.01995025 3.0016662\n",
      " 2.00997512 5.02493781 3.01496269 2.        ]\n",
      "K Nearest: ['male' 'male' 'female']\n",
      "Prediction: male\n"
     ]
    }
   ],
   "source": [
    "import numpy as np\n",
    "import pandas as pd\n",
    "import matplotlib.pyplot as plt\n",
    "from collections import Counter\n",
    "\n",
    "\n",
    "def plot_data(X, Y, Z):\n",
    "    style_plot()\n",
    "    \n",
    "    # Plot visual representation of X, Y, Z\n",
    "    for i, data in enumerate(zip(X, Y)):\n",
    "        plt.scatter(data[0], data[1], c='k', marker='o' if Z[i] == 'male' else 'x')\n",
    "    \n",
    "    plt.show()\n",
    "\n",
    "\n",
    "def style_plot():\n",
    "    plt.style.use('seaborn-whitegrid')\n",
    "    plt.figure()\n",
    "    plt.xlabel('Height in foot.')\n",
    "    plt.ylabel('Age in years.')\n",
    "\n",
    "\n",
    "def read_data(path):\n",
    "    frame = pd.read_csv(path)\n",
    "    return frame['Height'].values, frame['Age'].values, frame['Sex'].values\n",
    "\n",
    "\n",
    "def read_test_input():\n",
    "    return [float(x) for x in input('Enter Height and Age for evaluation: ').split()]\n",
    "\n",
    "\n",
    "def evaluate_nearest(X, Y, x, y, verbose=False):\n",
    "    euclidean_distances = np.sqrt((X - x)**2  + (Y - y)**2)\n",
    "    if verbose:\n",
    "        print(f'Distances: {euclidean_distances}')\n",
    "    \n",
    "    nearest_neighbor_indices = euclidean_distances.argsort()[:3]\n",
    "    nearest_neighbor_sexes = np.take(Z, nearest_neighbor_indices)\n",
    "    \n",
    "    if verbose:\n",
    "        print(f'K Nearest: {nearest_neighbor_sexes}')\n",
    "        \n",
    "    return most_common(nearest_neighbor_sexes) \n",
    "\n",
    "\n",
    "def most_common(nearest_neighbors):\n",
    "    counts = Counter(nearest_neighbors)\n",
    "    return counts.most_common()[0][0]\n",
    "\n",
    "\n",
    "\n",
    "file_path = input('Enter CSV file path: ')\n",
    "X, Y, Z = read_data(file_path)\n",
    "\n",
    "\n",
    "plot_data(X, Y, Z)\n",
    "\n",
    "\n",
    "x, y = read_test_input()\n",
    "while x != -1:\n",
    "    prediction = evaluate_nearest(X, Y, x, y, True)\n",
    "    print(f'Prediction: {prediction}')\n",
    "    x, y = read_test_input()\n",
    "\n"
   ]
  },
  {
   "cell_type": "code",
   "execution_count": null,
   "metadata": {},
   "outputs": [],
   "source": [
    "\n"
   ]
  },
  {
   "cell_type": "code",
   "execution_count": null,
   "metadata": {},
   "outputs": [],
   "source": []
  }
 ],
 "metadata": {
  "kernelspec": {
   "display_name": "Python 3",
   "language": "python",
   "name": "python3"
  },
  "language_info": {
   "codemirror_mode": {
    "name": "ipython",
    "version": 3
   },
   "file_extension": ".py",
   "mimetype": "text/x-python",
   "name": "python",
   "nbconvert_exporter": "python",
   "pygments_lexer": "ipython3",
   "version": "3.7.4"
  }
 },
 "nbformat": 4,
 "nbformat_minor": 2
}
