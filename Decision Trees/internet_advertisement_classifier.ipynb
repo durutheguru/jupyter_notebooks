{
 "metadata": {
  "language_info": {
   "codemirror_mode": {
    "name": "ipython",
    "version": 3
   },
   "file_extension": ".py",
   "mimetype": "text/x-python",
   "name": "python",
   "nbconvert_exporter": "python",
   "pygments_lexer": "ipython3",
   "version": "3.8.3-final"
  },
  "orig_nbformat": 2,
  "kernelspec": {
   "name": "python_defaultSpec_1599862728765",
   "display_name": "Python 3.8.3 64-bit ('base': conda)"
  }
 },
 "nbformat": 4,
 "nbformat_minor": 2,
 "cells": [
  {
   "cell_type": "code",
   "execution_count": 11,
   "metadata": {
    "tags": []
   },
   "outputs": [
    {
     "output_type": "stream",
     "name": "stdout",
     "text": "Fitting 5 folds for each of 18 candidates, totalling 90 fits\n[Parallel(n_jobs=-1)]: Using backend LokyBackend with 4 concurrent workers.\n[Parallel(n_jobs=-1)]: Done  42 tasks      | elapsed:    8.1s\n[Parallel(n_jobs=-1)]: Done  90 out of  90 | elapsed:   13.2s finished\nBest score: 0.884\nBest parameters set:\ntclf__max_depth: 155\ntclf__min_samples_leaf: 1\ntclf__min_samples_split: 3\n              precision    recall  f1-score   support\n\n           0       0.98      0.99      0.99       706\n           1       0.96      0.89      0.93       114\n\n    accuracy                           0.98       820\n   macro avg       0.97      0.94      0.96       820\nweighted avg       0.98      0.98      0.98       820\n\n"
    }
   ],
   "source": [
    "%run ../include/util.ipynb\n",
    "\n",
    "import pandas as pd\n",
    "from sklearn.tree import DecisionTreeClassifier\n",
    "from sklearn.model_selection import train_test_split, GridSearchCV\n",
    "from sklearn.metrics import classification_report\n",
    "from sklearn.pipeline import Pipeline\n",
    "\n",
    "\n",
    "# /Users/dduru/PythonProjects/data/Decision Trees/ad-dataset/ad.data\n",
    "ad_data = read_csv_frame(path='/Users/dduru/PythonProjects/data/Decision Trees/ad-dataset/ad.data')\n",
    "\n",
    "explanatory_variable_columns = list(ad_data.columns.values)\n",
    "explanatory_variable_columns.remove(explanatory_variable_columns[len(explanatory_variable_columns) - 1])\n",
    "\n",
    "response_variable_column = ad_data.iloc[:, -1]\n",
    "\n",
    "y = [1 if e == 'ad.' else 0 for e in response_variable_column]\n",
    "X = ad_data[list(explanatory_variable_columns)].copy()\n",
    "X.replace(to_replace=' *?', value=-1, regex=True, inplace=True)\n",
    "X_train, X_test, y_train, y_test = train_test_split(X, y)\n",
    "\n",
    "\n",
    "pipeline = Pipeline([\n",
    "    ('clf', DecisionTreeClassifier(criterion='entropy'))\n",
    "])\n",
    "parameters = {\n",
    "    'clf__max_depth': (150, 155, 160),\n",
    "    'clf__min_samples_split': (2, 3),\n",
    "    'clf__min_samples_leaf': (1, 2, 3)\n",
    "}\n",
    "\n",
    "\n",
    "grid_search = GridSearchCV(pipeline, parameters, n_jobs=-1, verbose=1, scoring='f1')\n",
    "grid_search.fit(X_train, y_train)\n",
    "\n",
    "\n",
    "best_parameters = grid_search.best_estimator_.get_params()\n",
    "print('Best score: %.3f' % grid_search.best_score_)\n",
    "print('Best parameters set:')\n",
    "\n",
    "for param_name in sorted(parameters.keys()):\n",
    "    print('t%s: %r' % (param_name, best_parameters[param_name]))\n",
    "\n",
    "\n",
    "predictions = grid_search.predict(X_test)\n",
    "print(classification_report(y_test, predictions))\n",
    "\n"
   ]
  },
  {
   "cell_type": "code",
   "execution_count": null,
   "metadata": {},
   "outputs": [],
   "source": []
  }
 ]
}